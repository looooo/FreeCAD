{
 "cells": [
  {
   "cell_type": "code",
   "execution_count": 4,
   "metadata": {
    "collapsed": false
   },
   "outputs": [],
   "source": [
    "import fenics"
   ]
  },
  {
   "cell_type": "code",
   "execution_count": 5,
   "metadata": {
    "collapsed": false
   },
   "outputs": [],
   "source": [
    "import numpy as np"
   ]
  },
  {
   "cell_type": "code",
   "execution_count": 11,
   "metadata": {
    "collapsed": false
   },
   "outputs": [],
   "source": [
    "mesh = fenics.Mesh()\n",
    "editor = fenics.MeshEditor()\n",
    "editor.open(mesh, 2, 2)\n",
    "editor.init_vertices(3)\n",
    "editor.init_cells(1)\n",
    "editor.add_vertex(0, np.array([0.,0.]))\n",
    "editor.add_vertex(1, np.array([0.,1.]))\n",
    "editor.add_vertex(2, np.array([1.,0.]))\n",
    "\n",
    "editor.add_cell(0, 0, 1, 2)\n",
    "editor.close()"
   ]
  },
  {
   "cell_type": "code",
   "execution_count": 12,
   "metadata": {
    "collapsed": false
   },
   "outputs": [
    {
     "data": {
      "text/plain": [
       "array([[ 0.,  0.],\n",
       "       [ 0.,  1.],\n",
       "       [ 1.,  0.]])"
      ]
     },
     "execution_count": 12,
     "metadata": {},
     "output_type": "execute_result"
    }
   ],
   "source": [
    "mesh.coordinates()"
   ]
  },
  {
   "cell_type": "code",
   "execution_count": 13,
   "metadata": {
    "collapsed": false
   },
   "outputs": [
    {
     "data": {
      "image/svg+xml": [
       "\n",
       "    <svg xmlns=\"http://www.w3.org/2000/svg\" version=\"1.1\" width=\"840\" height=\"840\">\n",
       "    <line x1=\"20\" y1=\"820\" x2=\"20\" y2=\"20\" style=\"fill:none; stroke:black; stroke-width:\"2\" />\n",
       "<line x1=\"20\" y1=\"820\" x2=\"820\" y2=\"820\" style=\"fill:none; stroke:black; stroke-width:\"2\" />\n",
       "<line x1=\"20\" y1=\"20\" x2=\"820\" y2=\"820\" style=\"fill:none; stroke:black; stroke-width:\"2\" />\n",
       "    <circle cx=\"20\" cy=\"820\" r=\"2\" stroke=\"black\" stroke-width=\"0\" fill=\"red\" />\n",
       "<circle cx=\"20\" cy=\"20\" r=\"2\" stroke=\"black\" stroke-width=\"0\" fill=\"red\" />\n",
       "<circle cx=\"820\" cy=\"820\" r=\"2\" stroke=\"black\" stroke-width=\"0\" fill=\"red\" />\n",
       "    </svg>\n",
       "    "
      ],
      "text/html": [
       "<!DOCTYPE html>\n",
       "<html>\n",
       "  <head>\n",
       "    <meta http-equiv=\"content-type\" content=\"text/html;charset=UTF-8\" />\n",
       "    <meta name=\"generator\" content=\"FEniCS/DOLFIN (http://fenicsproject.org)\" />\n",
       "    <title>FEniCS/DOLFIN X3DOM plot</title>\n",
       "    <script type=\"text/javascript\" src=\"http://www.x3dom.org/download/x3dom.js\"></script>\n",
       "    <link rel=\"stylesheet\" type=\"text/css\" href=\"http://www.x3dom.org/download/x3dom.css\" />\n",
       "  </head>\n",
       "  <body>\n",
       "    <x3d showStat=\"false\" xmlns=\"http://www.web3d.org/specifications/x3d-namespace\" width=\"500.000000px\" height=\"400.000000px\">\n",
       "      <scene>\n",
       "        <shape>\n",
       "          <appearance>\n",
       "            <material diffuseColor=\"1.000000 1.000000 1.000000\" emissiveColor=\"0.000000 0.000000 0.000000\" specularColor=\"0.000000 0.000000 0.000000\" ambientIntensity=\"0\" shininess=\"0.5\" transparency=\"0\"></material>\n",
       "          </appearance>\n",
       "          <indexedFaceSet solid=\"false\" colorPerVertex=\"false\" coordIndex=\"0 1 2 -1 \">\n",
       "            <coordinate point=\"0 0 0 0 1 0 1 0 0 \"></coordinate>\n",
       "          </indexedFaceSet>\n",
       "        </shape>\n",
       "        <shape>\n",
       "          <appearance>\n",
       "            <material emissiveColor=\"0.000000 0.000000 0.000000\" specularColor=\"0.000000 0.000000 0.000000\" ambientIntensity=\"0\" shininess=\"0.5\" transparency=\"0\"></material>\n",
       "          </appearance>\n",
       "          <indexedLineSet solid=\"false\" colorPerVertex=\"false\" coordIndex=\"0 1 -1 0 2 -1 1 2 -1 \">\n",
       "            <coordinate point=\"0 0 0 0 1 0 1 0 0 \"></coordinate>\n",
       "          </indexedLineSet>\n",
       "        </shape>\n",
       "        <viewpoint id=\"default\" position=\"1.914214 1.914214 1.414214\" orientation=\"-0.7071067812 0.7071067812 0 1\" fieldOfView=\"0.785398\" centerOfRotation=\"0.500000 0.500000 0.000000\" zNear=\"-1\" zFar=\"-1\"></viewpoint>\n",
       "        <background skyColor=\"0.950000 0.950000 0.950000\"></background>\n",
       "        <directionalLight ambientIntensity=\"0\" intensity=\"1\"></directionalLight>\n",
       "      </scene>\n",
       "    </x3d>\n",
       "    <div style=\"position: absolute; margin: 1%; text-align: left; font-size: 12px; color: black;\">Number of vertices: 3, number of cells: 1</div>\n",
       "  </body>\n",
       "</html>\n"
      ],
      "text/plain": [
       "<dolfin.cpp.mesh.Mesh; proxy of <Swig Object of type 'std::shared_ptr< dolfin::Mesh > *' at 0x7f71feb7c6c0> >"
      ]
     },
     "execution_count": 13,
     "metadata": {},
     "output_type": "execute_result"
    }
   ],
   "source": [
    "mesh"
   ]
  },
  {
   "cell_type": "code",
   "execution_count": null,
   "metadata": {
    "collapsed": true
   },
   "outputs": [],
   "source": []
  }
 ],
 "metadata": {
  "kernelspec": {
   "display_name": "Python 2",
   "language": "python",
   "name": "python2"
  },
  "language_info": {
   "codemirror_mode": {
    "name": "ipython",
    "version": 2
   },
   "file_extension": ".py",
   "mimetype": "text/x-python",
   "name": "python",
   "nbconvert_exporter": "python",
   "pygments_lexer": "ipython2",
   "version": "2.7.12"
  }
 },
 "nbformat": 4,
 "nbformat_minor": 2
}
